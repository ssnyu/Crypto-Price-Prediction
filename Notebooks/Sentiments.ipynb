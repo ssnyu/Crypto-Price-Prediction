{
 "cells": [
  {
   "cell_type": "markdown",
   "id": "8948293c",
   "metadata": {},
   "source": [
    "# FinBERT for Sentinment Analysis"
   ]
  },
  {
   "cell_type": "code",
   "execution_count": 1,
   "id": "095a3ea9",
   "metadata": {},
   "outputs": [
    {
     "name": "stderr",
     "output_type": "stream",
     "text": [
      "C:\\Users\\MB-PC\\anaconda3\\lib\\site-packages\\tensorflow_addons\\utils\\tfa_eol_msg.py:23: UserWarning: \n",
      "\n",
      "TensorFlow Addons (TFA) has ended development and introduction of new features.\n",
      "TFA has entered a minimal maintenance and release mode until a planned end of life in May 2024.\n",
      "Please modify downstream libraries to take dependencies from other repositories in our TensorFlow community (e.g. Keras, Keras-CV, and Keras-NLP). \n",
      "\n",
      "For more information see: https://github.com/tensorflow/addons/issues/2807 \n",
      "\n",
      "  warnings.warn(\n"
     ]
    }
   ],
   "source": [
    "from transformers import AutoTokenizer, AutoModelForSequenceClassification\n",
    "import torch\n",
    "import requests\n",
    "import re\n",
    "from bs4 import BeautifulSoup\n",
    "import os\n",
    "import shutil\n",
    "import tensorflow as tf\n",
    "import tensorflow_hub as hub\n",
    "import tensorflow_text as text\n",
    "import matplotlib.pyplot as plt\n",
    "from official.nlp import optimization\n",
    "import tqdm\n",
    "import pandas as pd\n",
    "\n",
    "tf.get_logger().setLevel('ERROR')"
   ]
  },
  {
   "cell_type": "code",
   "execution_count": 2,
   "id": "3aab3943",
   "metadata": {},
   "outputs": [],
   "source": [
    "# create a tokenizer object\n",
    "tokenizer = AutoTokenizer.from_pretrained(\"ProsusAI/finbert\")\n",
    "\n",
    "# fetch the pretrained model \n",
    "model = AutoModelForSequenceClassification.from_pretrained(\"ProsusAI/finbert\")"
   ]
  },
  {
   "cell_type": "code",
   "execution_count": 3,
   "id": "dfc2a22b",
   "metadata": {},
   "outputs": [],
   "source": [
    "# A headline to be used as input \n",
    "headline = \"Bitcoin is on the same price for the day\"\n",
    "\n",
    "# Pre-process input phrase\n",
    "input = tokenizer(headline, padding = True, truncation = True, return_tensors='pt')\n",
    "# Run inference on the tokenized phrase\n",
    "output = model(**input)\n",
    "\n",
    "# Pass model output logits through a softmax layer.\n",
    "sentim_scores = torch.nn.functional.softmax(output.logits, dim=-1)"
   ]
  },
  {
   "cell_type": "code",
   "execution_count": 4,
   "id": "83a7c509",
   "metadata": {},
   "outputs": [
    {
     "data": {
      "text/plain": [
       "tensor([[0.0371, 0.0226, 0.9402]], grad_fn=<SoftmaxBackward0>)"
      ]
     },
     "execution_count": 4,
     "metadata": {},
     "output_type": "execute_result"
    }
   ],
   "source": [
    "sentim_scores"
   ]
  },
  {
   "cell_type": "code",
   "execution_count": 5,
   "id": "07c8d265",
   "metadata": {},
   "outputs": [],
   "source": [
    "data = pd.read_csv(\"C:/Users/MB-PC/ML/Cardano_reddit_extraction_101.csv\")"
   ]
  },
  {
   "cell_type": "code",
   "execution_count": null,
   "id": "fa9bddef",
   "metadata": {},
   "outputs": [],
   "source": []
  },
  {
   "cell_type": "code",
   "execution_count": 6,
   "id": "d34d38d1",
   "metadata": {},
   "outputs": [],
   "source": [
    "data = data.rename(columns={'Body':'headline'})\n",
    "#data[\"headline\"] = data[\"Content\"]\n",
    "#data = data.drop([\"Content\",\"Unnamed: 0\"],axis=1)"
   ]
  },
  {
   "cell_type": "code",
   "execution_count": 7,
   "id": "fab94f39",
   "metadata": {},
   "outputs": [],
   "source": [
    "data = data.dropna()"
   ]
  },
  {
   "cell_type": "code",
   "execution_count": 8,
   "id": "af63e334",
   "metadata": {},
   "outputs": [
    {
     "data": {
      "text/html": [
       "<div>\n",
       "<style scoped>\n",
       "    .dataframe tbody tr th:only-of-type {\n",
       "        vertical-align: middle;\n",
       "    }\n",
       "\n",
       "    .dataframe tbody tr th {\n",
       "        vertical-align: top;\n",
       "    }\n",
       "\n",
       "    .dataframe thead th {\n",
       "        text-align: right;\n",
       "    }\n",
       "</style>\n",
       "<table border=\"1\" class=\"dataframe\">\n",
       "  <thead>\n",
       "    <tr style=\"text-align: right;\">\n",
       "      <th></th>\n",
       "      <th>index</th>\n",
       "      <th>headline</th>\n",
       "      <th>Date</th>\n",
       "    </tr>\n",
       "  </thead>\n",
       "  <tbody>\n",
       "    <tr>\n",
       "      <th>0</th>\n",
       "      <td>0</td>\n",
       "      <td>They have lots of funding and marketing, but d...</td>\n",
       "      <td>2023-05-13 10:11:06</td>\n",
       "    </tr>\n",
       "    <tr>\n",
       "      <th>1</th>\n",
       "      <td>1</td>\n",
       "      <td>Hello everyone,\\n\\nWelcome to the Cardano Dail...</td>\n",
       "      <td>2023-05-13 05:30:10</td>\n",
       "    </tr>\n",
       "    <tr>\n",
       "      <th>2</th>\n",
       "      <td>2</td>\n",
       "      <td>Just have a look at Cardano's development comp...</td>\n",
       "      <td>2023-05-13 01:12:59</td>\n",
       "    </tr>\n",
       "    <tr>\n",
       "      <th>3</th>\n",
       "      <td>3</td>\n",
       "      <td>Really awesome time having a chance to chat wi...</td>\n",
       "      <td>2023-05-13 01:03:11</td>\n",
       "    </tr>\n",
       "    <tr>\n",
       "      <th>4</th>\n",
       "      <td>4</td>\n",
       "      <td>Me: \\n\\nReferring to your data, what exactly d...</td>\n",
       "      <td>2023-05-12 21:23:28</td>\n",
       "    </tr>\n",
       "    <tr>\n",
       "      <th>...</th>\n",
       "      <td>...</td>\n",
       "      <td>...</td>\n",
       "      <td>...</td>\n",
       "    </tr>\n",
       "    <tr>\n",
       "      <th>532</th>\n",
       "      <td>955</td>\n",
       "      <td>&amp;#x200B;\\n\\nhttps://preview.redd.it/fpmk2lxpz6...</td>\n",
       "      <td>2023-02-24 20:05:11</td>\n",
       "    </tr>\n",
       "    <tr>\n",
       "      <th>533</th>\n",
       "      <td>956</td>\n",
       "      <td>Cardano, a blockchain platform, has a strong c...</td>\n",
       "      <td>2023-02-24 14:02:36</td>\n",
       "    </tr>\n",
       "    <tr>\n",
       "      <th>534</th>\n",
       "      <td>959</td>\n",
       "      <td>Hey Everyone!\\n\\nLet’s go….\\n\\nNewly Covered T...</td>\n",
       "      <td>2023-02-24 07:43:53</td>\n",
       "    </tr>\n",
       "    <tr>\n",
       "      <th>535</th>\n",
       "      <td>961</td>\n",
       "      <td>Hello everyone,\\n\\nWelcome to the Cardano Dail...</td>\n",
       "      <td>2023-02-24 06:30:09</td>\n",
       "    </tr>\n",
       "    <tr>\n",
       "      <th>536</th>\n",
       "      <td>962</td>\n",
       "      <td>Just wondering if anyone else is taking part i...</td>\n",
       "      <td>2023-02-23 21:35:30</td>\n",
       "    </tr>\n",
       "  </tbody>\n",
       "</table>\n",
       "<p>537 rows × 3 columns</p>\n",
       "</div>"
      ],
      "text/plain": [
       "     index                                           headline  \\\n",
       "0        0  They have lots of funding and marketing, but d...   \n",
       "1        1  Hello everyone,\\n\\nWelcome to the Cardano Dail...   \n",
       "2        2  Just have a look at Cardano's development comp...   \n",
       "3        3  Really awesome time having a chance to chat wi...   \n",
       "4        4  Me: \\n\\nReferring to your data, what exactly d...   \n",
       "..     ...                                                ...   \n",
       "532    955  &#x200B;\\n\\nhttps://preview.redd.it/fpmk2lxpz6...   \n",
       "533    956  Cardano, a blockchain platform, has a strong c...   \n",
       "534    959  Hey Everyone!\\n\\nLet’s go….\\n\\nNewly Covered T...   \n",
       "535    961  Hello everyone,\\n\\nWelcome to the Cardano Dail...   \n",
       "536    962  Just wondering if anyone else is taking part i...   \n",
       "\n",
       "                    Date  \n",
       "0    2023-05-13 10:11:06  \n",
       "1    2023-05-13 05:30:10  \n",
       "2    2023-05-13 01:12:59  \n",
       "3    2023-05-13 01:03:11  \n",
       "4    2023-05-12 21:23:28  \n",
       "..                   ...  \n",
       "532  2023-02-24 20:05:11  \n",
       "533  2023-02-24 14:02:36  \n",
       "534  2023-02-24 07:43:53  \n",
       "535  2023-02-24 06:30:09  \n",
       "536  2023-02-23 21:35:30  \n",
       "\n",
       "[537 rows x 3 columns]"
      ]
     },
     "execution_count": 8,
     "metadata": {},
     "output_type": "execute_result"
    }
   ],
   "source": [
    "data = data.drop([\"Unnamed: 0\"],axis=1)\n",
    "data\n",
    "#data['headline'] = data['headline'].astype(str)"
   ]
  },
  {
   "cell_type": "code",
   "execution_count": 9,
   "id": "9711d425",
   "metadata": {},
   "outputs": [
    {
     "name": "stdout",
     "output_type": "stream",
     "text": [
      "true\n"
     ]
    }
   ],
   "source": [
    "if 'headline' in data:\n",
    "    print('true')\n",
    "else: print('false')     "
   ]
  },
  {
   "cell_type": "code",
   "execution_count": 15,
   "id": "afa654ec",
   "metadata": {},
   "outputs": [],
   "source": [
    "\n",
    "part_data = data.head(4)\n",
    "#data.dtypes"
   ]
  },
  {
   "cell_type": "code",
   "execution_count": 11,
   "id": "abe28800",
   "metadata": {},
   "outputs": [],
   "source": [
    "def sentim_analyzer(df, tokenizer, model):\n",
    "    for i in range (0, len(df)) :\n",
    "        try:\n",
    "            headline = df.loc[i, 'headline']\n",
    "            \n",
    "        except:\n",
    "            return print(' \\'headline\\' column might be missing from dataframe')\n",
    "        # Pre-process input phrase\n",
    "        input = tokenizer(headline, padding = True, truncation = True, return_tensors='pt')\n",
    "        # Estimate output\n",
    "        output = model(**input)\n",
    "        # Pass model output logits through a softmax layer.\n",
    "        predictions = torch.nn.functional.softmax(output.logits, dim=-1)\n",
    "        df.loc[i, 'Positive'] = predictions[0][0].tolist()\n",
    "        df.loc[i, 'Negative'] = predictions[0][1].tolist()\n",
    "        df.loc[i, 'Neutral']  = predictions[0][2].tolist()\n",
    "    # rearrange column order\n",
    "    try:\n",
    "        df = df[['date',  'headline', 'Positive', 'Negative', 'Neutral']]\n",
    "    except:\n",
    "        pass\n",
    "    return df"
   ]
  },
  {
   "cell_type": "code",
   "execution_count": 19,
   "id": "2ab8f7a1",
   "metadata": {},
   "outputs": [],
   "source": [
    "sentim_data = sentim_analyzer(data, tokenizer, model)"
   ]
  },
  {
   "cell_type": "code",
   "execution_count": 20,
   "id": "584c1f30",
   "metadata": {},
   "outputs": [
    {
     "data": {
      "text/html": [
       "<div>\n",
       "<style scoped>\n",
       "    .dataframe tbody tr th:only-of-type {\n",
       "        vertical-align: middle;\n",
       "    }\n",
       "\n",
       "    .dataframe tbody tr th {\n",
       "        vertical-align: top;\n",
       "    }\n",
       "\n",
       "    .dataframe thead th {\n",
       "        text-align: right;\n",
       "    }\n",
       "</style>\n",
       "<table border=\"1\" class=\"dataframe\">\n",
       "  <thead>\n",
       "    <tr style=\"text-align: right;\">\n",
       "      <th></th>\n",
       "      <th>headline</th>\n",
       "      <th>Date</th>\n",
       "      <th>Positive</th>\n",
       "      <th>Negative</th>\n",
       "      <th>Neutral</th>\n",
       "    </tr>\n",
       "  </thead>\n",
       "  <tbody>\n",
       "    <tr>\n",
       "      <th>0</th>\n",
       "      <td>They have lots of funding and marketing, but d...</td>\n",
       "      <td>2023-05-13 10:11:06</td>\n",
       "      <td>0.089965</td>\n",
       "      <td>0.037385</td>\n",
       "      <td>0.872649</td>\n",
       "    </tr>\n",
       "    <tr>\n",
       "      <th>1</th>\n",
       "      <td>Hello everyone,\\n\\nWelcome to the Cardano Dail...</td>\n",
       "      <td>2023-05-13 05:30:10</td>\n",
       "      <td>0.019929</td>\n",
       "      <td>0.085898</td>\n",
       "      <td>0.894173</td>\n",
       "    </tr>\n",
       "    <tr>\n",
       "      <th>2</th>\n",
       "      <td>Just have a look at Cardano's development comp...</td>\n",
       "      <td>2023-05-13 01:12:59</td>\n",
       "      <td>0.069088</td>\n",
       "      <td>0.015764</td>\n",
       "      <td>0.915147</td>\n",
       "    </tr>\n",
       "    <tr>\n",
       "      <th>3</th>\n",
       "      <td>Really awesome time having a chance to chat wi...</td>\n",
       "      <td>2023-05-13 01:03:11</td>\n",
       "      <td>0.231345</td>\n",
       "      <td>0.010165</td>\n",
       "      <td>0.758489</td>\n",
       "    </tr>\n",
       "    <tr>\n",
       "      <th>4</th>\n",
       "      <td>Me: \\n\\nReferring to your data, what exactly d...</td>\n",
       "      <td>2023-05-12 21:23:28</td>\n",
       "      <td>0.039080</td>\n",
       "      <td>0.016425</td>\n",
       "      <td>0.944495</td>\n",
       "    </tr>\n",
       "    <tr>\n",
       "      <th>...</th>\n",
       "      <td>...</td>\n",
       "      <td>...</td>\n",
       "      <td>...</td>\n",
       "      <td>...</td>\n",
       "      <td>...</td>\n",
       "    </tr>\n",
       "    <tr>\n",
       "      <th>532</th>\n",
       "      <td>&amp;#x200B;\\n\\nhttps://preview.redd.it/fpmk2lxpz6...</td>\n",
       "      <td>2023-02-24 20:05:11</td>\n",
       "      <td>0.125506</td>\n",
       "      <td>0.012386</td>\n",
       "      <td>0.862108</td>\n",
       "    </tr>\n",
       "    <tr>\n",
       "      <th>533</th>\n",
       "      <td>Cardano, a blockchain platform, has a strong c...</td>\n",
       "      <td>2023-02-24 14:02:36</td>\n",
       "      <td>0.147318</td>\n",
       "      <td>0.010207</td>\n",
       "      <td>0.842475</td>\n",
       "    </tr>\n",
       "    <tr>\n",
       "      <th>534</th>\n",
       "      <td>Hey Everyone!\\n\\nLet’s go….\\n\\nNewly Covered T...</td>\n",
       "      <td>2023-02-24 07:43:53</td>\n",
       "      <td>0.018677</td>\n",
       "      <td>0.510275</td>\n",
       "      <td>0.471048</td>\n",
       "    </tr>\n",
       "    <tr>\n",
       "      <th>535</th>\n",
       "      <td>Hello everyone,\\n\\nWelcome to the Cardano Dail...</td>\n",
       "      <td>2023-02-24 06:30:09</td>\n",
       "      <td>0.019929</td>\n",
       "      <td>0.085898</td>\n",
       "      <td>0.894173</td>\n",
       "    </tr>\n",
       "    <tr>\n",
       "      <th>536</th>\n",
       "      <td>Just wondering if anyone else is taking part i...</td>\n",
       "      <td>2023-02-23 21:35:30</td>\n",
       "      <td>0.172080</td>\n",
       "      <td>0.011274</td>\n",
       "      <td>0.816646</td>\n",
       "    </tr>\n",
       "  </tbody>\n",
       "</table>\n",
       "<p>537 rows × 5 columns</p>\n",
       "</div>"
      ],
      "text/plain": [
       "                                              headline                 Date  \\\n",
       "0    They have lots of funding and marketing, but d...  2023-05-13 10:11:06   \n",
       "1    Hello everyone,\\n\\nWelcome to the Cardano Dail...  2023-05-13 05:30:10   \n",
       "2    Just have a look at Cardano's development comp...  2023-05-13 01:12:59   \n",
       "3    Really awesome time having a chance to chat wi...  2023-05-13 01:03:11   \n",
       "4    Me: \\n\\nReferring to your data, what exactly d...  2023-05-12 21:23:28   \n",
       "..                                                 ...                  ...   \n",
       "532  &#x200B;\\n\\nhttps://preview.redd.it/fpmk2lxpz6...  2023-02-24 20:05:11   \n",
       "533  Cardano, a blockchain platform, has a strong c...  2023-02-24 14:02:36   \n",
       "534  Hey Everyone!\\n\\nLet’s go….\\n\\nNewly Covered T...  2023-02-24 07:43:53   \n",
       "535  Hello everyone,\\n\\nWelcome to the Cardano Dail...  2023-02-24 06:30:09   \n",
       "536  Just wondering if anyone else is taking part i...  2023-02-23 21:35:30   \n",
       "\n",
       "     Positive  Negative   Neutral  \n",
       "0    0.089965  0.037385  0.872649  \n",
       "1    0.019929  0.085898  0.894173  \n",
       "2    0.069088  0.015764  0.915147  \n",
       "3    0.231345  0.010165  0.758489  \n",
       "4    0.039080  0.016425  0.944495  \n",
       "..        ...       ...       ...  \n",
       "532  0.125506  0.012386  0.862108  \n",
       "533  0.147318  0.010207  0.842475  \n",
       "534  0.018677  0.510275  0.471048  \n",
       "535  0.019929  0.085898  0.894173  \n",
       "536  0.172080  0.011274  0.816646  \n",
       "\n",
       "[537 rows x 5 columns]"
      ]
     },
     "execution_count": 20,
     "metadata": {},
     "output_type": "execute_result"
    }
   ],
   "source": [
    "sentim_data"
   ]
  },
  {
   "cell_type": "code",
   "execution_count": null,
   "id": "a39d41be",
   "metadata": {},
   "outputs": [],
   "source": [
    "# Positive + Negative + Neutral = [0,5]\n",
    "# Score = Positive Magnitude + (0.5 * Neutral Magnitude)) / (Positive Magnitude + Neutral Magnitude + Negative Magnitude) * 5\n",
    "\n",
    "\n",
    "#sentim_data[\"Score\"] = (sentim_data[\"Positive\"] + 0.5*sentim_data[\"Neutral\"])*5 / (sentim_data[\"Positive\"]+ sentim_data[\"Neutral\"]+ sentim_data[\"Negative\"])"
   ]
  },
  {
   "cell_type": "code",
   "execution_count": 21,
   "id": "ee466c34",
   "metadata": {},
   "outputs": [],
   "source": [
    "# sentiment Between 0 and 1\n",
    "\n",
    "sentim_data[\"Score\"] = (sentim_data[\"Positive\"] + 0.5*sentim_data[\"Neutral\"]) / (sentim_data[\"Positive\"]+ sentim_data[\"Neutral\"]+ sentim_data[\"Negative\"]) \n"
   ]
  },
  {
   "cell_type": "code",
   "execution_count": 22,
   "id": "07adc83f",
   "metadata": {},
   "outputs": [
    {
     "data": {
      "text/html": [
       "<div>\n",
       "<style scoped>\n",
       "    .dataframe tbody tr th:only-of-type {\n",
       "        vertical-align: middle;\n",
       "    }\n",
       "\n",
       "    .dataframe tbody tr th {\n",
       "        vertical-align: top;\n",
       "    }\n",
       "\n",
       "    .dataframe thead th {\n",
       "        text-align: right;\n",
       "    }\n",
       "</style>\n",
       "<table border=\"1\" class=\"dataframe\">\n",
       "  <thead>\n",
       "    <tr style=\"text-align: right;\">\n",
       "      <th></th>\n",
       "      <th>headline</th>\n",
       "      <th>Date</th>\n",
       "      <th>Positive</th>\n",
       "      <th>Negative</th>\n",
       "      <th>Neutral</th>\n",
       "      <th>Score</th>\n",
       "    </tr>\n",
       "  </thead>\n",
       "  <tbody>\n",
       "    <tr>\n",
       "      <th>0</th>\n",
       "      <td>They have lots of funding and marketing, but d...</td>\n",
       "      <td>2023-05-13 10:11:06</td>\n",
       "      <td>0.089965</td>\n",
       "      <td>0.037385</td>\n",
       "      <td>0.872649</td>\n",
       "      <td>0.526290</td>\n",
       "    </tr>\n",
       "    <tr>\n",
       "      <th>1</th>\n",
       "      <td>Hello everyone,\\n\\nWelcome to the Cardano Dail...</td>\n",
       "      <td>2023-05-13 05:30:10</td>\n",
       "      <td>0.019929</td>\n",
       "      <td>0.085898</td>\n",
       "      <td>0.894173</td>\n",
       "      <td>0.467015</td>\n",
       "    </tr>\n",
       "    <tr>\n",
       "      <th>2</th>\n",
       "      <td>Just have a look at Cardano's development comp...</td>\n",
       "      <td>2023-05-13 01:12:59</td>\n",
       "      <td>0.069088</td>\n",
       "      <td>0.015764</td>\n",
       "      <td>0.915147</td>\n",
       "      <td>0.526662</td>\n",
       "    </tr>\n",
       "    <tr>\n",
       "      <th>3</th>\n",
       "      <td>Really awesome time having a chance to chat wi...</td>\n",
       "      <td>2023-05-13 01:03:11</td>\n",
       "      <td>0.231345</td>\n",
       "      <td>0.010165</td>\n",
       "      <td>0.758489</td>\n",
       "      <td>0.610590</td>\n",
       "    </tr>\n",
       "  </tbody>\n",
       "</table>\n",
       "</div>"
      ],
      "text/plain": [
       "                                            headline                 Date  \\\n",
       "0  They have lots of funding and marketing, but d...  2023-05-13 10:11:06   \n",
       "1  Hello everyone,\\n\\nWelcome to the Cardano Dail...  2023-05-13 05:30:10   \n",
       "2  Just have a look at Cardano's development comp...  2023-05-13 01:12:59   \n",
       "3  Really awesome time having a chance to chat wi...  2023-05-13 01:03:11   \n",
       "\n",
       "   Positive  Negative   Neutral     Score  \n",
       "0  0.089965  0.037385  0.872649  0.526290  \n",
       "1  0.019929  0.085898  0.894173  0.467015  \n",
       "2  0.069088  0.015764  0.915147  0.526662  \n",
       "3  0.231345  0.010165  0.758489  0.610590  "
      ]
     },
     "execution_count": 22,
     "metadata": {},
     "output_type": "execute_result"
    }
   ],
   "source": [
    "sentim_data.head(4)"
   ]
  },
  {
   "cell_type": "code",
   "execution_count": 23,
   "id": "dba36dbb",
   "metadata": {},
   "outputs": [],
   "source": [
    "sentim_data.to_csv(\"sentiment_with_results_cardano101_unknown.csv\")"
   ]
  },
  {
   "cell_type": "code",
   "execution_count": 55,
   "id": "5142047c",
   "metadata": {},
   "outputs": [],
   "source": [
    "final_score = pd.read_csv(\"sentiment_with_results_cardano101_unknown.csv\")\n",
    "\n",
    "# Assuming your DataFrame is named 'final_score' and the timestamp column is the only column\n",
    "\n",
    "final_score['Date'] = pd.to_datetime(final_score['Date']).dt.date\n",
    "final_score = final_score.groupby('Date')['Score'].mean()\n",
    "\n"
   ]
  },
  {
   "cell_type": "code",
   "execution_count": 57,
   "id": "45cf3afc",
   "metadata": {},
   "outputs": [],
   "source": [
    "final_score.to_csv(\"final_score_cardano101_unknown.csv\")\n",
    "#sentim_data = pd.read_csv('sentiment_with_results_etherum.csv')"
   ]
  },
  {
   "cell_type": "code",
   "execution_count": 54,
   "id": "8bd51b9a",
   "metadata": {},
   "outputs": [
    {
     "ename": "KeyError",
     "evalue": "'Column not found: Score'",
     "output_type": "error",
     "traceback": [
      "\u001b[1;31m---------------------------------------------------------------------------\u001b[0m",
      "\u001b[1;31mKeyError\u001b[0m                                  Traceback (most recent call last)",
      "\u001b[1;32m~\\AppData\\Local\\Temp\\ipykernel_17468\\1385046863.py\u001b[0m in \u001b[0;36m<module>\u001b[1;34m\u001b[0m\n\u001b[0;32m      1\u001b[0m \u001b[1;31m#grouped_data = df.groupby('Date')['Score'].mean()\u001b[0m\u001b[1;33m\u001b[0m\u001b[1;33m\u001b[0m\u001b[0m\n\u001b[0;32m      2\u001b[0m \u001b[1;33m\u001b[0m\u001b[0m\n\u001b[1;32m----> 3\u001b[1;33m \u001b[0mfinal_score\u001b[0m \u001b[1;33m=\u001b[0m \u001b[0mfinal_score\u001b[0m\u001b[1;33m.\u001b[0m\u001b[0mgroupby\u001b[0m\u001b[1;33m(\u001b[0m\u001b[1;34m'Date'\u001b[0m\u001b[1;33m)\u001b[0m\u001b[1;33m[\u001b[0m\u001b[1;34m'Score'\u001b[0m\u001b[1;33m]\u001b[0m\u001b[1;33m.\u001b[0m\u001b[0mmean\u001b[0m\u001b[1;33m(\u001b[0m\u001b[1;33m)\u001b[0m\u001b[1;33m\u001b[0m\u001b[1;33m\u001b[0m\u001b[0m\n\u001b[0m",
      "\u001b[1;32m~\\anaconda3\\lib\\site-packages\\pandas\\core\\base.py\u001b[0m in \u001b[0;36m__getitem__\u001b[1;34m(self, key)\u001b[0m\n\u001b[0;32m    248\u001b[0m         \u001b[1;32melse\u001b[0m\u001b[1;33m:\u001b[0m\u001b[1;33m\u001b[0m\u001b[1;33m\u001b[0m\u001b[0m\n\u001b[0;32m    249\u001b[0m             \u001b[1;32mif\u001b[0m \u001b[0mkey\u001b[0m \u001b[1;32mnot\u001b[0m \u001b[1;32min\u001b[0m \u001b[0mself\u001b[0m\u001b[1;33m.\u001b[0m\u001b[0mobj\u001b[0m\u001b[1;33m:\u001b[0m\u001b[1;33m\u001b[0m\u001b[1;33m\u001b[0m\u001b[0m\n\u001b[1;32m--> 250\u001b[1;33m                 \u001b[1;32mraise\u001b[0m \u001b[0mKeyError\u001b[0m\u001b[1;33m(\u001b[0m\u001b[1;34mf\"Column not found: {key}\"\u001b[0m\u001b[1;33m)\u001b[0m\u001b[1;33m\u001b[0m\u001b[1;33m\u001b[0m\u001b[0m\n\u001b[0m\u001b[0;32m    251\u001b[0m             \u001b[0msubset\u001b[0m \u001b[1;33m=\u001b[0m \u001b[0mself\u001b[0m\u001b[1;33m.\u001b[0m\u001b[0mobj\u001b[0m\u001b[1;33m[\u001b[0m\u001b[0mkey\u001b[0m\u001b[1;33m]\u001b[0m\u001b[1;33m\u001b[0m\u001b[1;33m\u001b[0m\u001b[0m\n\u001b[0;32m    252\u001b[0m             \u001b[0mndim\u001b[0m \u001b[1;33m=\u001b[0m \u001b[0msubset\u001b[0m\u001b[1;33m.\u001b[0m\u001b[0mndim\u001b[0m\u001b[1;33m\u001b[0m\u001b[1;33m\u001b[0m\u001b[0m\n",
      "\u001b[1;31mKeyError\u001b[0m: 'Column not found: Score'"
     ]
    }
   ],
   "source": [
    "#grouped_data = df.groupby('Date')['Score'].mean()\n",
    "\n",
    "final_score = final_score.groupby('Date')['Score'].mean()"
   ]
  },
  {
   "cell_type": "code",
   "execution_count": 31,
   "id": "ab8efda0",
   "metadata": {},
   "outputs": [],
   "source": [
    "final_score.to_csv(\"final_sentiment_score_cardano_101.csv\")"
   ]
  },
  {
   "cell_type": "code",
   "execution_count": 49,
   "id": "4b21168e",
   "metadata": {},
   "outputs": [
    {
     "name": "stdout",
     "output_type": "stream",
     "text": [
      "Index(['Unnamed: 0', 'headline', 'Date', 'Positive', 'Negative', 'Neutral',\n",
      "       'Score'],\n",
      "      dtype='object')\n"
     ]
    }
   ],
   "source": [
    "print(final_score.columns)"
   ]
  },
  {
   "cell_type": "code",
   "execution_count": 39,
   "id": "36a980c3",
   "metadata": {},
   "outputs": [],
   "source": [
    "final_score.rename(columns={'Date':'date'}, inplace = True)"
   ]
  },
  {
   "cell_type": "code",
   "execution_count": 53,
   "id": "9e933185",
   "metadata": {},
   "outputs": [
    {
     "data": {
      "text/plain": [
       "Date\n",
       "2023-02-23 21:35:30    0.580403\n",
       "2023-02-24 06:30:09    0.467015\n",
       "2023-02-24 07:43:53    0.254201\n",
       "2023-02-24 14:02:36    0.568556\n",
       "2023-02-24 20:05:11    0.556560\n",
       "                         ...   \n",
       "2023-05-12 21:23:28    0.511328\n",
       "2023-05-13 01:03:11    0.610590\n",
       "2023-05-13 01:12:59    0.526662\n",
       "2023-05-13 05:30:10    0.467015\n",
       "2023-05-13 10:11:06    0.526290\n",
       "Name: Score, Length: 537, dtype: float64"
      ]
     },
     "execution_count": 53,
     "metadata": {},
     "output_type": "execute_result"
    }
   ],
   "source": [
    "final_score"
   ]
  },
  {
   "cell_type": "code",
   "execution_count": 50,
   "id": "688ca376",
   "metadata": {},
   "outputs": [],
   "source": [
    "\n",
    "# Assuming your DataFrame is named 'df' and the datetime column is named 'Date'\n"
   ]
  },
  {
   "cell_type": "code",
   "execution_count": 51,
   "id": "cc6b41cc",
   "metadata": {},
   "outputs": [
    {
     "data": {
      "text/html": [
       "<div>\n",
       "<style scoped>\n",
       "    .dataframe tbody tr th:only-of-type {\n",
       "        vertical-align: middle;\n",
       "    }\n",
       "\n",
       "    .dataframe tbody tr th {\n",
       "        vertical-align: top;\n",
       "    }\n",
       "\n",
       "    .dataframe thead th {\n",
       "        text-align: right;\n",
       "    }\n",
       "</style>\n",
       "<table border=\"1\" class=\"dataframe\">\n",
       "  <thead>\n",
       "    <tr style=\"text-align: right;\">\n",
       "      <th></th>\n",
       "      <th>Unnamed: 0</th>\n",
       "      <th>headline</th>\n",
       "      <th>Date</th>\n",
       "      <th>Positive</th>\n",
       "      <th>Negative</th>\n",
       "      <th>Neutral</th>\n",
       "      <th>Score</th>\n",
       "    </tr>\n",
       "  </thead>\n",
       "  <tbody>\n",
       "    <tr>\n",
       "      <th>0</th>\n",
       "      <td>0</td>\n",
       "      <td>They have lots of funding and marketing, but d...</td>\n",
       "      <td>2023-05-13</td>\n",
       "      <td>0.089965</td>\n",
       "      <td>0.037385</td>\n",
       "      <td>0.872649</td>\n",
       "      <td>0.526290</td>\n",
       "    </tr>\n",
       "    <tr>\n",
       "      <th>1</th>\n",
       "      <td>1</td>\n",
       "      <td>Hello everyone,\\n\\nWelcome to the Cardano Dail...</td>\n",
       "      <td>2023-05-13</td>\n",
       "      <td>0.019929</td>\n",
       "      <td>0.085898</td>\n",
       "      <td>0.894173</td>\n",
       "      <td>0.467015</td>\n",
       "    </tr>\n",
       "    <tr>\n",
       "      <th>2</th>\n",
       "      <td>2</td>\n",
       "      <td>Just have a look at Cardano's development comp...</td>\n",
       "      <td>2023-05-13</td>\n",
       "      <td>0.069088</td>\n",
       "      <td>0.015764</td>\n",
       "      <td>0.915147</td>\n",
       "      <td>0.526662</td>\n",
       "    </tr>\n",
       "    <tr>\n",
       "      <th>3</th>\n",
       "      <td>3</td>\n",
       "      <td>Really awesome time having a chance to chat wi...</td>\n",
       "      <td>2023-05-13</td>\n",
       "      <td>0.231345</td>\n",
       "      <td>0.010165</td>\n",
       "      <td>0.758489</td>\n",
       "      <td>0.610590</td>\n",
       "    </tr>\n",
       "    <tr>\n",
       "      <th>4</th>\n",
       "      <td>4</td>\n",
       "      <td>Me: \\n\\nReferring to your data, what exactly d...</td>\n",
       "      <td>2023-05-12</td>\n",
       "      <td>0.039080</td>\n",
       "      <td>0.016425</td>\n",
       "      <td>0.944495</td>\n",
       "      <td>0.511328</td>\n",
       "    </tr>\n",
       "    <tr>\n",
       "      <th>...</th>\n",
       "      <td>...</td>\n",
       "      <td>...</td>\n",
       "      <td>...</td>\n",
       "      <td>...</td>\n",
       "      <td>...</td>\n",
       "      <td>...</td>\n",
       "      <td>...</td>\n",
       "    </tr>\n",
       "    <tr>\n",
       "      <th>532</th>\n",
       "      <td>532</td>\n",
       "      <td>&amp;#x200B;\\n\\nhttps://preview.redd.it/fpmk2lxpz6...</td>\n",
       "      <td>2023-02-24</td>\n",
       "      <td>0.125506</td>\n",
       "      <td>0.012386</td>\n",
       "      <td>0.862108</td>\n",
       "      <td>0.556560</td>\n",
       "    </tr>\n",
       "    <tr>\n",
       "      <th>533</th>\n",
       "      <td>533</td>\n",
       "      <td>Cardano, a blockchain platform, has a strong c...</td>\n",
       "      <td>2023-02-24</td>\n",
       "      <td>0.147318</td>\n",
       "      <td>0.010207</td>\n",
       "      <td>0.842475</td>\n",
       "      <td>0.568556</td>\n",
       "    </tr>\n",
       "    <tr>\n",
       "      <th>534</th>\n",
       "      <td>534</td>\n",
       "      <td>Hey Everyone!\\n\\nLet’s go….\\n\\nNewly Covered T...</td>\n",
       "      <td>2023-02-24</td>\n",
       "      <td>0.018677</td>\n",
       "      <td>0.510275</td>\n",
       "      <td>0.471048</td>\n",
       "      <td>0.254201</td>\n",
       "    </tr>\n",
       "    <tr>\n",
       "      <th>535</th>\n",
       "      <td>535</td>\n",
       "      <td>Hello everyone,\\n\\nWelcome to the Cardano Dail...</td>\n",
       "      <td>2023-02-24</td>\n",
       "      <td>0.019929</td>\n",
       "      <td>0.085898</td>\n",
       "      <td>0.894173</td>\n",
       "      <td>0.467015</td>\n",
       "    </tr>\n",
       "    <tr>\n",
       "      <th>536</th>\n",
       "      <td>536</td>\n",
       "      <td>Just wondering if anyone else is taking part i...</td>\n",
       "      <td>2023-02-23</td>\n",
       "      <td>0.172080</td>\n",
       "      <td>0.011274</td>\n",
       "      <td>0.816646</td>\n",
       "      <td>0.580403</td>\n",
       "    </tr>\n",
       "  </tbody>\n",
       "</table>\n",
       "<p>537 rows × 7 columns</p>\n",
       "</div>"
      ],
      "text/plain": [
       "     Unnamed: 0                                           headline  \\\n",
       "0             0  They have lots of funding and marketing, but d...   \n",
       "1             1  Hello everyone,\\n\\nWelcome to the Cardano Dail...   \n",
       "2             2  Just have a look at Cardano's development comp...   \n",
       "3             3  Really awesome time having a chance to chat wi...   \n",
       "4             4  Me: \\n\\nReferring to your data, what exactly d...   \n",
       "..          ...                                                ...   \n",
       "532         532  &#x200B;\\n\\nhttps://preview.redd.it/fpmk2lxpz6...   \n",
       "533         533  Cardano, a blockchain platform, has a strong c...   \n",
       "534         534  Hey Everyone!\\n\\nLet’s go….\\n\\nNewly Covered T...   \n",
       "535         535  Hello everyone,\\n\\nWelcome to the Cardano Dail...   \n",
       "536         536  Just wondering if anyone else is taking part i...   \n",
       "\n",
       "           Date  Positive  Negative   Neutral     Score  \n",
       "0    2023-05-13  0.089965  0.037385  0.872649  0.526290  \n",
       "1    2023-05-13  0.019929  0.085898  0.894173  0.467015  \n",
       "2    2023-05-13  0.069088  0.015764  0.915147  0.526662  \n",
       "3    2023-05-13  0.231345  0.010165  0.758489  0.610590  \n",
       "4    2023-05-12  0.039080  0.016425  0.944495  0.511328  \n",
       "..          ...       ...       ...       ...       ...  \n",
       "532  2023-02-24  0.125506  0.012386  0.862108  0.556560  \n",
       "533  2023-02-24  0.147318  0.010207  0.842475  0.568556  \n",
       "534  2023-02-24  0.018677  0.510275  0.471048  0.254201  \n",
       "535  2023-02-24  0.019929  0.085898  0.894173  0.467015  \n",
       "536  2023-02-23  0.172080  0.011274  0.816646  0.580403  \n",
       "\n",
       "[537 rows x 7 columns]"
      ]
     },
     "execution_count": 51,
     "metadata": {},
     "output_type": "execute_result"
    }
   ],
   "source": [
    "final_score"
   ]
  },
  {
   "cell_type": "code",
   "execution_count": null,
   "id": "f67e1e7d",
   "metadata": {},
   "outputs": [],
   "source": []
  }
 ],
 "metadata": {
  "kernelspec": {
   "display_name": "Python 3 (ipykernel)",
   "language": "python",
   "name": "python3"
  },
  "language_info": {
   "codemirror_mode": {
    "name": "ipython",
    "version": 3
   },
   "file_extension": ".py",
   "mimetype": "text/x-python",
   "name": "python",
   "nbconvert_exporter": "python",
   "pygments_lexer": "ipython3",
   "version": "3.9.13"
  }
 },
 "nbformat": 4,
 "nbformat_minor": 5
}
