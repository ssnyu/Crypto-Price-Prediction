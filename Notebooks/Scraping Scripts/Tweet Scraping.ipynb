{
 "cells": [
  {
   "cell_type": "markdown",
   "id": "a650a56c",
   "metadata": {},
   "source": [
    "# Script to scrape twitter data\n",
    "We use this script to scrape twitter tweets for Cryptocurrencies Ethereum, Polkadot and Cardano. "
   ]
  },
  {
   "cell_type": "code",
   "execution_count": null,
   "id": "b73ec721",
   "metadata": {},
   "outputs": [],
   "source": [
    "# importing used libraries\n",
    "import pandas as pd\n",
    "import snscrape.modules.twitter as sntwitter\n",
    "from tqdm.notebook import tqdm"
   ]
  },
  {
   "cell_type": "code",
   "execution_count": null,
   "id": "1aa5e790",
   "metadata": {},
   "outputs": [],
   "source": [
    "query = \"(dot or DOT OR polkadot or Polkadot) min_replies:10 min_faves:100 min_retweets:50 until:2023-03-28 since:2019-01-01\"\n",
    "tweets = []\n",
    "limit = 5000\n",
    "\n",
    "\n",
    "for tweet in tqdm(sntwitter.TwitterSearchScraper(query).get_items(), total = limit):\n",
    "    data = [ tweet.date, tweet.user.username, tweet.content, tweet.likeCount, tweet.retweetCount]\n",
    "    tweets.append(data)\n",
    "    if len(tweets) == limit:\n",
    "        break\n",
    "        \n",
    "\n",
    "df = pd.DataFrame(tweets, columns=['Date', 'User', 'Content', 'Likes', 'Retweet'])\n",
    "\n",
    "df.to_csv('polkadotTwitter.csv')"
   ]
  },
  {
   "cell_type": "code",
   "execution_count": null,
   "id": "a7ad1504",
   "metadata": {},
   "outputs": [],
   "source": [
    "query = \"(eth or ETH OR ethereum or Ethereum) min_replies:10 min_faves:100 min_retweets:50 until:2023-03-28 since:2019-01-01\"\n",
    "tweets = []\n",
    "limit = 5000\n",
    "\n",
    "\n",
    "for tweet in tqdm(sntwitter.TwitterSearchScraper(query).get_items(), total = limit):\n",
    "    data = [ tweet.date, tweet.user.username, tweet.content, tweet.likeCount, tweet.retweetCount]\n",
    "    tweets.append(data)\n",
    "    if len(tweets) == limit:\n",
    "        break\n",
    "        \n",
    "\n",
    "df = pd.DataFrame(tweets, columns=['Date', 'User', 'Content', 'Likes', 'Retweet'])\n",
    "\n",
    "df.to_csv('ethereumTwitter.csv')"
   ]
  },
  {
   "cell_type": "code",
   "execution_count": null,
   "id": "bbc44dff",
   "metadata": {},
   "outputs": [],
   "source": [
    "query = \"(ada or ADA OR Cardano or cardano) min_replies:10 min_faves:100 min_retweets:50 until:2023-03-28 since:2019-01-01\"\n",
    "tweets = []\n",
    "limit = 5000\n",
    "\n",
    "\n",
    "for tweet in tqdm(sntwitter.TwitterSearchScraper(query).get_items(), total = limit):\n",
    "    data = [ tweet.date, tweet.user.username, tweet.content, tweet.likeCount, tweet.retweetCount]\n",
    "    tweets.append(data)\n",
    "    if len(tweets) == limit:\n",
    "        break\n",
    "        \n",
    "\n",
    "df = pd.DataFrame(tweets, columns=['Date', 'User', 'Content', 'Likes', 'Retweet'])\n",
    "\n",
    "df.to_csv('cardanoTwitter.csv')"
   ]
  }
 ],
 "metadata": {
  "kernelspec": {
   "display_name": "Python 3 (ipykernel)",
   "language": "python",
   "name": "python3"
  },
  "language_info": {
   "codemirror_mode": {
    "name": "ipython",
    "version": 3
   },
   "file_extension": ".py",
   "mimetype": "text/x-python",
   "name": "python",
   "nbconvert_exporter": "python",
   "pygments_lexer": "ipython3",
   "version": "3.9.13"
  }
 },
 "nbformat": 4,
 "nbformat_minor": 5
}
