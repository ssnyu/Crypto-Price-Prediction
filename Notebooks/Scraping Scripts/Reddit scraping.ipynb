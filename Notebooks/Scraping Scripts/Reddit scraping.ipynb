{
 "cells": [
  {
   "cell_type": "markdown",
   "id": "231b3fa2",
   "metadata": {},
   "source": [
    "# Reddit Data Extraction"
   ]
  },
  {
   "cell_type": "code",
   "execution_count": 1,
   "id": "714e3d2b",
   "metadata": {},
   "outputs": [],
   "source": [
    "#importing necessary libraries\n",
    "import praw\n",
    "import pandas as pd\n",
    "import datetime\n",
    "reddit = praw.Reddit(client_id='INSERT_YOUR_CLIENT_ID', client_secret='INSERT_YOUR_SECRET_KEY', user_agent='YOUR_AGENT')\n",
    "start_date = '01-01-22 00:00:00'\n",
    "start_date = datetime.datetime.strptime(start_date, '%d-%m-%y %H:%M:%S').timestamp()"
   ]
  },
  {
   "cell_type": "markdown",
   "id": "0cde4a40",
   "metadata": {},
   "source": [
    "### Cardano Reddit data extraction"
   ]
  },
  {
   "cell_type": "code",
   "execution_count": 3,
   "id": "d5053b1f",
   "metadata": {},
   "outputs": [],
   "source": [
    "subreddit = reddit.subreddit('Cardano')\n",
    "\n",
    "\n",
    "\n",
    "for post in subreddit.hot(limit=1000):\n",
    "    date = post.created_utc\n",
    "    if date > start_date:\n",
    "        posts.append([post.title, post.subreddit, post.selftext, post.created_utc])\n",
    "\n",
    "posts = pd.DataFrame(posts,columns=['title', 'subreddit', 'body', 'Created On'])\n",
    "posts['Created On'] = pd.to_datetime(posts['Created On'],  unit='s')\n",
    "print(posts)\n",
    "posts.to_csv('redditcardano.csv')"
   ]
  },
  {
   "cell_type": "markdown",
   "id": "7db4f201",
   "metadata": {},
   "source": [
    "### Polkadot Reddit data extraction"
   ]
  },
  {
   "cell_type": "code",
   "execution_count": null,
   "id": "10b36409",
   "metadata": {},
   "outputs": [],
   "source": [
    "subreddit = reddit.subreddit('Polkadot')\n",
    "\n",
    "\n",
    "for post in subreddit.new(limit=1000):\n",
    "    date = post.created_utc\n",
    "    if date > start_date:\n",
    "        posts.append([post.selftext, post.created_utc])\n",
    "\n",
    "posts = pd.DataFrame(posts,columns=[ 'Body', 'Date'])\n",
    "posts['Date'] = pd.to_datetime(posts['Date'],  unit='s')\n",
    "print(posts)\n",
    "posts.to_csv('Polkadot_reddit_extraction.csv')"
   ]
  },
  {
   "cell_type": "markdown",
   "id": "9938c154",
   "metadata": {},
   "source": [
    "### Ethereum Reddit data extraction"
   ]
  },
  {
   "cell_type": "code",
   "execution_count": null,
   "id": "a101e973",
   "metadata": {},
   "outputs": [],
   "source": [
    "subreddit = reddit.subreddit('Polkadot')\n",
    "posts=[]\n",
    "\n",
    "\n",
    "start_date = '01-01-22 00:00:00'\n",
    "start_date = datetime.datetime.strptime(start_date, '%d-%m-%y %H:%M:%S').timestamp()\n",
    "for post in subreddit.new(limit=1000):\n",
    "    date = post.created_utc\n",
    "    if date > start_date:\n",
    "        posts.append([post.selftext, post.created_utc])\n",
    "\n",
    "posts = pd.DataFrame(posts,columns=[ 'Body', 'Date'])\n",
    "posts['Date'] = pd.to_datetime(posts['Date'],  unit='s')\n",
    "print(posts)\n",
    "posts.to_csv('Polkadot_reddit_extraction_101.csv')"
   ]
  },
  {
   "cell_type": "markdown",
   "id": "02086f75",
   "metadata": {},
   "source": [
    "# Alternative Data Extraction from twitter"
   ]
  },
  {
   "cell_type": "code",
   "execution_count": null,
   "id": "df7bab1c",
   "metadata": {
    "scrolled": true
   },
   "outputs": [],
   "source": [
    "import pandas as pd\n",
    "import snscrape.modules.twitter as sntwitter\n",
    "from tqdm.notebook import tqdm\n",
    "\n",
    "# Define the search terms\n",
    "keywords = ['dot', 'polkadot', 'dotusd', 'dotusdt', 'dotusdc', '#dot', '#polkadot', '#dotusd']\n",
    "\n",
    "# Define the query parameters\n",
    "query = f\"({' OR '.join(keywords)}) min_faves:10 min_replies:0 min_retweets:2 until:2023-05-31 since:2021-05-01\"\n",
    "\n",
    "tweets = []\n",
    "limit = 5000\n",
    "\n",
    "for tweet in tqdm(sntwitter.TwitterSearchScraper(query).get_items(), total=limit):\n",
    "    data = [tweet.date, tweet.user.username, tweet.content, tweet.likeCount, tweet.retweetCount]\n",
    "    tweets.append(data)\n",
    "\n",
    "    if len(tweets) == limit:\n",
    "        break\n",
    "        \n",
    "df = pd.DataFrame(tweets, columns=['Date', 'User', 'Content', 'Likes', 'Retweet'])\n",
    "df.to_csv('Cardano.csv', index=False)"
   ]
  }
 ],
 "metadata": {
  "kernelspec": {
   "display_name": "Python 3 (ipykernel)",
   "language": "python",
   "name": "python3"
  },
  "language_info": {
   "codemirror_mode": {
    "name": "ipython",
    "version": 3
   },
   "file_extension": ".py",
   "mimetype": "text/x-python",
   "name": "python",
   "nbconvert_exporter": "python",
   "pygments_lexer": "ipython3",
   "version": "3.9.13"
  }
 },
 "nbformat": 4,
 "nbformat_minor": 5
}
