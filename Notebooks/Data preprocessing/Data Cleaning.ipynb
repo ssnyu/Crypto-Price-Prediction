{
 "cells": [
  {
   "cell_type": "markdown",
   "id": "b6f1288e",
   "metadata": {},
   "source": [
    "# Data Cleaning\n",
    "\n",
    "Cleaning and combining coin data"
   ]
  },
  {
   "cell_type": "markdown",
   "id": "07aee216",
   "metadata": {},
   "source": [
    "### Importing necessary libraries and files"
   ]
  },
  {
   "cell_type": "code",
   "execution_count": 11,
   "id": "390217e6",
   "metadata": {},
   "outputs": [],
   "source": [
    "import pandas as pd\n",
    "tweets = pd.read_csv(\"CardanoTwitterData.csv\")\n",
    "reddit = pd.read_csv(\"CardanoRedditData.csv\")"
   ]
  },
  {
   "cell_type": "markdown",
   "id": "0dba45cc",
   "metadata": {},
   "source": [
    "Cleaning twitter data"
   ]
  },
  {
   "cell_type": "code",
   "execution_count": null,
   "id": "d3de1099",
   "metadata": {},
   "outputs": [],
   "source": [
    "tweets = tweets.drop('Unnamed: 0',axis= 1 )\n",
    "tweets = tweets.drop(['User', 'Likes', 'Retweet'], axis = 1)\n",
    "tweets.dropna()"
   ]
  },
  {
   "cell_type": "markdown",
   "id": "0001381b",
   "metadata": {},
   "source": [
    "Cleaning reddit data"
   ]
  },
  {
   "cell_type": "code",
   "execution_count": 13,
   "id": "0da80520",
   "metadata": {},
   "outputs": [],
   "source": [
    "reddit = reddit.drop('Unnamed: 0', axis =1)\n",
    "reddit = reddit.drop(['title', 'score', 'url'], axis= 1)\n",
    "reddit = reddit.drop('num_comments', axis =1)\n",
    "reddit = reddit.dropna()\n",
    "reddit = reddit.rename(columns = {'body': 'Content'})"
   ]
  },
  {
   "cell_type": "markdown",
   "id": "24869c53",
   "metadata": {},
   "source": [
    "Combining reddit and twitter data"
   ]
  },
  {
   "cell_type": "code",
   "execution_count": 17,
   "id": "0b172789",
   "metadata": {},
   "outputs": [],
   "source": [
    "combined_data = pd.concat([tweets, reddit],ignore_index=True)\n",
    "combined_data = combined_data.dropna()\n",
    "combined_data.to_csv(\"Combined_reddit_tweets_polkadot.csv\")"
   ]
  }
 ],
 "metadata": {
  "kernelspec": {
   "display_name": "Python 3 (ipykernel)",
   "language": "python",
   "name": "python3"
  },
  "language_info": {
   "codemirror_mode": {
    "name": "ipython",
    "version": 3
   },
   "file_extension": ".py",
   "mimetype": "text/x-python",
   "name": "python",
   "nbconvert_exporter": "python",
   "pygments_lexer": "ipython3",
   "version": "3.9.13"
  }
 },
 "nbformat": 4,
 "nbformat_minor": 5
}
