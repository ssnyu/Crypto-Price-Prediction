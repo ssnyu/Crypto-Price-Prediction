{
 "cells": [
  {
   "cell_type": "markdown",
   "id": "05946ff7",
   "metadata": {},
   "source": [
    "# Preprocessing Coin  \n",
    "Combining features (Price and Volumes) and normalizing the values"
   ]
  },
  {
   "cell_type": "code",
   "execution_count": null,
   "id": "c09e4e2e",
   "metadata": {},
   "outputs": [],
   "source": [
    "import pandas as pd\n",
    "import numpy as np \n",
    "import pandas as pd \n",
    "import seaborn as sns\n",
    "from matplotlib import pyplot as plt\n",
    "import pandas_datareader as web\n",
    "import yfinance as yf\n",
    "from yahoofinancials import YahooFinancials\n",
    "import time\n",
    "from datetime import datetime, timedelta, date, time\n",
    "import os\n",
    "import yfinance as yf\n",
    "import datetime as dt"
   ]
  },
  {
   "cell_type": "code",
   "execution_count": 3,
   "id": "41f4ae72",
   "metadata": {},
   "outputs": [],
   "source": [
    "price_data = pd.read_csv('..\\Data\\CryptoClosePrices.csv')\n",
    "price_data.head(5)"
   ]
  },
  {
   "cell_type": "markdown",
   "id": "34ce9855",
   "metadata": {},
   "source": [
    "Obtain data of only one coin : Cardano (ADA), rename the column name to Close, to indicate closing price."
   ]
  },
  {
   "cell_type": "code",
   "execution_count": 10,
   "id": "e49ab97d",
   "metadata": {},
   "outputs": [],
   "source": [
    "coin_price_data = coin_price_data[\"ADA-USD\"]\n",
    "coin_price_data.rename(columns={'ADA-USD':'close'}, inplace = True)\n",
    "coin_price_data['previous_close'] = coin_price_data['close'].shift(1) \n",
    "coin_price_data.fillna(0)"
   ]
  },
  {
   "cell_type": "markdown",
   "id": "7f260677",
   "metadata": {},
   "source": [
    "Integrate sentiment data to price data"
   ]
  },
  {
   "cell_type": "code",
   "execution_count": 12,
   "id": "55a75747",
   "metadata": {},
   "outputs": [],
   "source": [
    "sentiment_score = pd.read_csv(\"../Data/Cardano.csv\") \n",
    "coin_final_data = coin_price_data.join(sentiment_score['Score'])"
   ]
  },
  {
   "cell_type": "code",
   "execution_count": null,
   "id": "d08b10b5",
   "metadata": {},
   "outputs": [],
   "source": [
    "coin_final_data.dropna()\n",
    "coin_final_data.sort_values(by=\"dates\")\n",
    "coin_final_data.rename(columns={'Score':'sentiment'}, inplace = True)\n",
    "coin_final_data = coin_final_data[['dates','previous_close','close','sentiment']]\n",
    "coin_final_data.head()"
   ]
  },
  {
   "cell_type": "code",
   "execution_count": null,
   "id": "4e05bc7a",
   "metadata": {},
   "outputs": [],
   "source": [
    "# Replace \"DesiredTicker\" with the ticker symbol of the cryptocurrency you want to analyze\n",
    "ticker = yf.Ticker(\"DesiredTicker\") #ETH-USD, BTC-USD, etc, \n",
    "\n",
    "# Set the start and end date of the date range\n",
    "d0 = date(2023, 1, 2)\n",
    "d1 = date(2021, 1, 1)\n",
    "\n",
    "# Get the historical market data for the date range\n",
    "history = ticker.history(start=d1, end=d0)\n",
    "\n",
    "# Extract the trading volume for each day\n",
    "volume = history['Volume']\n",
    "volume = pd.DataFrame(volume)\n",
    "volume = volume.reset_index()"
   ]
  },
  {
   "cell_type": "code",
   "execution_count": null,
   "id": "de5c46af",
   "metadata": {},
   "outputs": [],
   "source": [
    "def get_digits(num):\n",
    "    count = 0\n",
    "    while(num > 0):\n",
    "        num = num//10\n",
    "        count = count + 1\n",
    "    return count\n",
    "\n",
    "def normalize(coin): \n",
    "    max_num = coin.max()\n",
    "    max_len_max_price = get_digits(max_num)\n",
    "    return coin/10**max_len_max_price\n",
    "\n",
    "#normalizing the volume\n",
    "volume = volume['Volume']  \n",
    "for i in range (0, len(volume)):\n",
    "    volume[i] = normalize(volume[i])\n",
    "coin_final_data['previous_volume'] = volume\n",
    "\n",
    "#normalizing the prices\n",
    "close = coin_final_data[\"close\"].values\n",
    "for i in range (0, len(close)):\n",
    "    close[i] = normalize(close[i])\n",
    "coin_final_data['close_eth'] = close\n",
    "\n",
    "previous_close = coin_final_data[\"previous_close\"].values\n",
    "for i in range (0,len(previous_close)):\n",
    "    previous_close[i] = normalize(previous_close[i])\n",
    "coin_final_data['previous_close_eth'] = previous_close"
   ]
  },
  {
   "cell_type": "code",
   "execution_count": 167,
   "id": "f7e0e35f",
   "metadata": {},
   "outputs": [],
   "source": [
    "coin_final_data = coin_final_data.drop(columns=['close','previous_close'])\n",
    "coin_final_data.rename(columns={'previous_volume':'pre_volu_eth'}, inplace = True)\n",
    "coin_final_data.to_csv('ethereum_final_training_data2.csv')"
   ]
  }
 ],
 "metadata": {
  "kernelspec": {
   "display_name": "Python 3 (ipykernel)",
   "language": "python",
   "name": "python3"
  },
  "language_info": {
   "codemirror_mode": {
    "name": "ipython",
    "version": 3
   },
   "file_extension": ".py",
   "mimetype": "text/x-python",
   "name": "python",
   "nbconvert_exporter": "python",
   "pygments_lexer": "ipython3",
   "version": "3.10.4"
  }
 },
 "nbformat": 4,
 "nbformat_minor": 5
}
